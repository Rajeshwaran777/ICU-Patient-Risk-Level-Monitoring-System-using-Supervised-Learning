{
 "cells": [
  {
   "cell_type": "markdown",
   "id": "f23cd813",
   "metadata": {},
   "source": [
    "# KNEIGHBORS CLASSIFIER ALGORITHEM"
   ]
  },
  {
   "cell_type": "code",
   "execution_count": 1,
   "id": "c7ac72fa",
   "metadata": {},
   "outputs": [],
   "source": [
    "import pandas as pd\n",
    "import numpy as np\n",
    "import matplotlib.pyplot as plt\n",
    "import seaborn as sns\n",
    "\n",
    "import warnings\n",
    "warnings.filterwarnings('ignore')"
   ]
  },
  {
   "cell_type": "code",
   "execution_count": 2,
   "id": "5314fcfb",
   "metadata": {},
   "outputs": [
    {
     "data": {
      "text/html": [
       "<div>\n",
       "<style scoped>\n",
       "    .dataframe tbody tr th:only-of-type {\n",
       "        vertical-align: middle;\n",
       "    }\n",
       "\n",
       "    .dataframe tbody tr th {\n",
       "        vertical-align: top;\n",
       "    }\n",
       "\n",
       "    .dataframe thead th {\n",
       "        text-align: right;\n",
       "    }\n",
       "</style>\n",
       "<table border=\"1\" class=\"dataframe\">\n",
       "  <thead>\n",
       "    <tr style=\"text-align: right;\">\n",
       "      <th></th>\n",
       "      <th>outcome</th>\n",
       "      <th>age</th>\n",
       "      <th>BMI</th>\n",
       "      <th>hypertensive</th>\n",
       "      <th>atrialfibrillation</th>\n",
       "      <th>CHD with no MI</th>\n",
       "      <th>diabetes</th>\n",
       "      <th>deficiencyanemias</th>\n",
       "      <th>depression</th>\n",
       "      <th>Hyperlipemia</th>\n",
       "      <th>...</th>\n",
       "      <th>Blood sodium</th>\n",
       "      <th>Blood calcium</th>\n",
       "      <th>Chloride</th>\n",
       "      <th>Anion gap</th>\n",
       "      <th>Magnesium ion</th>\n",
       "      <th>PH</th>\n",
       "      <th>Bicarbonate</th>\n",
       "      <th>Lactic acid</th>\n",
       "      <th>PCO2</th>\n",
       "      <th>EF</th>\n",
       "    </tr>\n",
       "  </thead>\n",
       "  <tbody>\n",
       "    <tr>\n",
       "      <th>0</th>\n",
       "      <td>0.0</td>\n",
       "      <td>72</td>\n",
       "      <td>37.588179</td>\n",
       "      <td>0</td>\n",
       "      <td>0</td>\n",
       "      <td>0</td>\n",
       "      <td>1</td>\n",
       "      <td>1</td>\n",
       "      <td>0</td>\n",
       "      <td>1</td>\n",
       "      <td>...</td>\n",
       "      <td>138.750000</td>\n",
       "      <td>7.463636</td>\n",
       "      <td>109.166667</td>\n",
       "      <td>13.166667</td>\n",
       "      <td>2.618182</td>\n",
       "      <td>7.230</td>\n",
       "      <td>21.166667</td>\n",
       "      <td>0.5</td>\n",
       "      <td>40.0</td>\n",
       "      <td>55</td>\n",
       "    </tr>\n",
       "    <tr>\n",
       "      <th>1</th>\n",
       "      <td>0.0</td>\n",
       "      <td>75</td>\n",
       "      <td>NaN</td>\n",
       "      <td>0</td>\n",
       "      <td>0</td>\n",
       "      <td>0</td>\n",
       "      <td>0</td>\n",
       "      <td>1</td>\n",
       "      <td>0</td>\n",
       "      <td>0</td>\n",
       "      <td>...</td>\n",
       "      <td>138.888889</td>\n",
       "      <td>8.162500</td>\n",
       "      <td>98.444444</td>\n",
       "      <td>11.444444</td>\n",
       "      <td>1.887500</td>\n",
       "      <td>7.225</td>\n",
       "      <td>33.444444</td>\n",
       "      <td>0.5</td>\n",
       "      <td>78.0</td>\n",
       "      <td>55</td>\n",
       "    </tr>\n",
       "    <tr>\n",
       "      <th>2</th>\n",
       "      <td>0.0</td>\n",
       "      <td>83</td>\n",
       "      <td>26.572634</td>\n",
       "      <td>0</td>\n",
       "      <td>0</td>\n",
       "      <td>0</td>\n",
       "      <td>0</td>\n",
       "      <td>1</td>\n",
       "      <td>0</td>\n",
       "      <td>0</td>\n",
       "      <td>...</td>\n",
       "      <td>140.714286</td>\n",
       "      <td>8.266667</td>\n",
       "      <td>105.857143</td>\n",
       "      <td>10.000000</td>\n",
       "      <td>2.157143</td>\n",
       "      <td>7.268</td>\n",
       "      <td>30.571429</td>\n",
       "      <td>0.5</td>\n",
       "      <td>71.5</td>\n",
       "      <td>35</td>\n",
       "    </tr>\n",
       "    <tr>\n",
       "      <th>3</th>\n",
       "      <td>0.0</td>\n",
       "      <td>43</td>\n",
       "      <td>83.264629</td>\n",
       "      <td>0</td>\n",
       "      <td>0</td>\n",
       "      <td>0</td>\n",
       "      <td>0</td>\n",
       "      <td>0</td>\n",
       "      <td>0</td>\n",
       "      <td>0</td>\n",
       "      <td>...</td>\n",
       "      <td>138.500000</td>\n",
       "      <td>9.476923</td>\n",
       "      <td>92.071429</td>\n",
       "      <td>12.357143</td>\n",
       "      <td>1.942857</td>\n",
       "      <td>7.370</td>\n",
       "      <td>38.571429</td>\n",
       "      <td>0.6</td>\n",
       "      <td>75.0</td>\n",
       "      <td>55</td>\n",
       "    </tr>\n",
       "    <tr>\n",
       "      <th>4</th>\n",
       "      <td>0.0</td>\n",
       "      <td>75</td>\n",
       "      <td>31.824842</td>\n",
       "      <td>1</td>\n",
       "      <td>0</td>\n",
       "      <td>0</td>\n",
       "      <td>0</td>\n",
       "      <td>1</td>\n",
       "      <td>0</td>\n",
       "      <td>0</td>\n",
       "      <td>...</td>\n",
       "      <td>136.666667</td>\n",
       "      <td>8.733333</td>\n",
       "      <td>104.500000</td>\n",
       "      <td>15.166667</td>\n",
       "      <td>1.650000</td>\n",
       "      <td>7.250</td>\n",
       "      <td>22.000000</td>\n",
       "      <td>0.6</td>\n",
       "      <td>50.0</td>\n",
       "      <td>55</td>\n",
       "    </tr>\n",
       "  </tbody>\n",
       "</table>\n",
       "<p>5 rows × 48 columns</p>\n",
       "</div>"
      ],
      "text/plain": [
       "   outcome  age        BMI  hypertensive  atrialfibrillation  CHD with no MI  \\\n",
       "0      0.0   72  37.588179             0                   0               0   \n",
       "1      0.0   75        NaN             0                   0               0   \n",
       "2      0.0   83  26.572634             0                   0               0   \n",
       "3      0.0   43  83.264629             0                   0               0   \n",
       "4      0.0   75  31.824842             1                   0               0   \n",
       "\n",
       "   diabetes  deficiencyanemias  depression  Hyperlipemia  ...  Blood sodium  \\\n",
       "0         1                  1           0             1  ...    138.750000   \n",
       "1         0                  1           0             0  ...    138.888889   \n",
       "2         0                  1           0             0  ...    140.714286   \n",
       "3         0                  0           0             0  ...    138.500000   \n",
       "4         0                  1           0             0  ...    136.666667   \n",
       "\n",
       "   Blood calcium    Chloride  Anion gap  Magnesium ion     PH  Bicarbonate  \\\n",
       "0       7.463636  109.166667  13.166667       2.618182  7.230    21.166667   \n",
       "1       8.162500   98.444444  11.444444       1.887500  7.225    33.444444   \n",
       "2       8.266667  105.857143  10.000000       2.157143  7.268    30.571429   \n",
       "3       9.476923   92.071429  12.357143       1.942857  7.370    38.571429   \n",
       "4       8.733333  104.500000  15.166667       1.650000  7.250    22.000000   \n",
       "\n",
       "   Lactic acid  PCO2  EF  \n",
       "0          0.5  40.0  55  \n",
       "1          0.5  78.0  55  \n",
       "2          0.5  71.5  35  \n",
       "3          0.6  75.0  55  \n",
       "4          0.6  50.0  55  \n",
       "\n",
       "[5 rows x 48 columns]"
      ]
     },
     "execution_count": 2,
     "metadata": {},
     "output_type": "execute_result"
    }
   ],
   "source": [
    "df = pd.read_csv('ICU.csv')\n",
    "\n",
    "del df['ID']\n",
    "del df['gendera']\n",
    "del df['group']\n",
    "\n",
    "df.head()"
   ]
  },
  {
   "cell_type": "code",
   "execution_count": 3,
   "id": "87def01f",
   "metadata": {},
   "outputs": [
    {
     "data": {
      "text/plain": [
       "Index(['outcome', 'age', 'BMI', 'hypertensive', 'atrialfibrillation',\n",
       "       'CHD with no MI', 'diabetes', 'deficiencyanemias', 'depression',\n",
       "       'Hyperlipemia', 'Renal failure', 'COPD', 'heart rate',\n",
       "       'Systolic blood pressure', 'Diastolic blood pressure',\n",
       "       'Respiratory rate', 'temperature', 'SP O2', 'Urine output',\n",
       "       'hematocrit', 'RBC', 'MCH', 'MCHC', 'MCV', 'RDW', 'Leucocyte',\n",
       "       'Platelets', 'Neutrophils', 'Basophils', 'Lymphocyte', 'PT', 'INR',\n",
       "       'NT-proBNP', 'Creatine kinase', 'Creatinine', 'Urea nitrogen',\n",
       "       'glucose', 'Blood potassium', 'Blood sodium', 'Blood calcium',\n",
       "       'Chloride', 'Anion gap', 'Magnesium ion', 'PH', 'Bicarbonate',\n",
       "       'Lactic acid', 'PCO2', 'EF'],\n",
       "      dtype='object')"
      ]
     },
     "execution_count": 3,
     "metadata": {},
     "output_type": "execute_result"
    }
   ],
   "source": [
    "df.columns"
   ]
  },
  {
   "cell_type": "code",
   "execution_count": 4,
   "id": "d785e357",
   "metadata": {},
   "outputs": [],
   "source": [
    "df=df.dropna()"
   ]
  },
  {
   "cell_type": "code",
   "execution_count": 5,
   "id": "7a0f30c1",
   "metadata": {},
   "outputs": [
    {
     "data": {
      "text/plain": [
       "Index(['outcome', 'age', 'BMI', 'hypertensive', 'atrialfibrillation',\n",
       "       'CHD with no MI', 'diabetes', 'deficiencyanemias', 'depression',\n",
       "       'Hyperlipemia', 'Renal failure', 'COPD', 'heart rate',\n",
       "       'Systolic blood pressure', 'Diastolic blood pressure',\n",
       "       'Respiratory rate', 'temperature', 'SP O2', 'Urine output',\n",
       "       'hematocrit', 'RBC', 'MCH', 'MCHC', 'MCV', 'RDW', 'Leucocyte',\n",
       "       'Platelets', 'Neutrophils', 'Basophils', 'Lymphocyte', 'PT', 'INR',\n",
       "       'NT-proBNP', 'Creatine kinase', 'Creatinine', 'Urea nitrogen',\n",
       "       'glucose', 'Blood potassium', 'Blood sodium', 'Blood calcium',\n",
       "       'Chloride', 'Anion gap', 'Magnesium ion', 'PH', 'Bicarbonate',\n",
       "       'Lactic acid', 'PCO2', 'EF'],\n",
       "      dtype='object')"
      ]
     },
     "execution_count": 5,
     "metadata": {},
     "output_type": "execute_result"
    }
   ],
   "source": [
    "df.columns"
   ]
  },
  {
   "cell_type": "code",
   "execution_count": 6,
   "id": "713eb254",
   "metadata": {},
   "outputs": [
    {
     "data": {
      "text/html": [
       "<div>\n",
       "<style scoped>\n",
       "    .dataframe tbody tr th:only-of-type {\n",
       "        vertical-align: middle;\n",
       "    }\n",
       "\n",
       "    .dataframe tbody tr th {\n",
       "        vertical-align: top;\n",
       "    }\n",
       "\n",
       "    .dataframe thead th {\n",
       "        text-align: right;\n",
       "    }\n",
       "</style>\n",
       "<table border=\"1\" class=\"dataframe\">\n",
       "  <thead>\n",
       "    <tr style=\"text-align: right;\">\n",
       "      <th></th>\n",
       "      <th>outcome</th>\n",
       "      <th>age</th>\n",
       "      <th>BMI</th>\n",
       "      <th>hypertensive</th>\n",
       "      <th>atrialfibrillation</th>\n",
       "      <th>CHD with no MI</th>\n",
       "      <th>diabetes</th>\n",
       "      <th>deficiencyanemias</th>\n",
       "      <th>depression</th>\n",
       "      <th>Hyperlipemia</th>\n",
       "      <th>...</th>\n",
       "      <th>Blood sodium</th>\n",
       "      <th>Blood calcium</th>\n",
       "      <th>Chloride</th>\n",
       "      <th>Anion gap</th>\n",
       "      <th>Magnesium ion</th>\n",
       "      <th>PH</th>\n",
       "      <th>Bicarbonate</th>\n",
       "      <th>Lactic acid</th>\n",
       "      <th>PCO2</th>\n",
       "      <th>EF</th>\n",
       "    </tr>\n",
       "  </thead>\n",
       "  <tbody>\n",
       "    <tr>\n",
       "      <th>1088</th>\n",
       "      <td>0.0</td>\n",
       "      <td>83</td>\n",
       "      <td>20.347657</td>\n",
       "      <td>1</td>\n",
       "      <td>1</td>\n",
       "      <td>0</td>\n",
       "      <td>0</td>\n",
       "      <td>0</td>\n",
       "      <td>0</td>\n",
       "      <td>0</td>\n",
       "      <td>...</td>\n",
       "      <td>137.800000</td>\n",
       "      <td>7.925000</td>\n",
       "      <td>102.400000</td>\n",
       "      <td>16.600000</td>\n",
       "      <td>2.250000</td>\n",
       "      <td>7.273333</td>\n",
       "      <td>23.000000</td>\n",
       "      <td>3.550</td>\n",
       "      <td>48.333333</td>\n",
       "      <td>55</td>\n",
       "    </tr>\n",
       "    <tr>\n",
       "      <th>1090</th>\n",
       "      <td>0.0</td>\n",
       "      <td>37</td>\n",
       "      <td>26.638051</td>\n",
       "      <td>0</td>\n",
       "      <td>0</td>\n",
       "      <td>0</td>\n",
       "      <td>0</td>\n",
       "      <td>0</td>\n",
       "      <td>0</td>\n",
       "      <td>0</td>\n",
       "      <td>...</td>\n",
       "      <td>135.666667</td>\n",
       "      <td>8.400000</td>\n",
       "      <td>100.333333</td>\n",
       "      <td>13.333333</td>\n",
       "      <td>2.050000</td>\n",
       "      <td>7.370000</td>\n",
       "      <td>26.333333</td>\n",
       "      <td>3.775</td>\n",
       "      <td>29.000000</td>\n",
       "      <td>20</td>\n",
       "    </tr>\n",
       "    <tr>\n",
       "      <th>1091</th>\n",
       "      <td>0.0</td>\n",
       "      <td>61</td>\n",
       "      <td>29.836962</td>\n",
       "      <td>1</td>\n",
       "      <td>0</td>\n",
       "      <td>0</td>\n",
       "      <td>1</td>\n",
       "      <td>0</td>\n",
       "      <td>0</td>\n",
       "      <td>1</td>\n",
       "      <td>...</td>\n",
       "      <td>135.444444</td>\n",
       "      <td>8.571429</td>\n",
       "      <td>99.444444</td>\n",
       "      <td>15.888889</td>\n",
       "      <td>1.900000</td>\n",
       "      <td>7.368125</td>\n",
       "      <td>24.333333</td>\n",
       "      <td>4.150</td>\n",
       "      <td>43.000000</td>\n",
       "      <td>20</td>\n",
       "    </tr>\n",
       "    <tr>\n",
       "      <th>1092</th>\n",
       "      <td>0.0</td>\n",
       "      <td>71</td>\n",
       "      <td>32.804298</td>\n",
       "      <td>1</td>\n",
       "      <td>0</td>\n",
       "      <td>0</td>\n",
       "      <td>1</td>\n",
       "      <td>0</td>\n",
       "      <td>1</td>\n",
       "      <td>0</td>\n",
       "      <td>...</td>\n",
       "      <td>141.823529</td>\n",
       "      <td>8.500000</td>\n",
       "      <td>101.470588</td>\n",
       "      <td>12.066667</td>\n",
       "      <td>2.005882</td>\n",
       "      <td>7.385806</td>\n",
       "      <td>32.933333</td>\n",
       "      <td>4.160</td>\n",
       "      <td>42.870968</td>\n",
       "      <td>55</td>\n",
       "    </tr>\n",
       "    <tr>\n",
       "      <th>1094</th>\n",
       "      <td>0.0</td>\n",
       "      <td>37</td>\n",
       "      <td>26.255155</td>\n",
       "      <td>0</td>\n",
       "      <td>0</td>\n",
       "      <td>0</td>\n",
       "      <td>0</td>\n",
       "      <td>0</td>\n",
       "      <td>0</td>\n",
       "      <td>0</td>\n",
       "      <td>...</td>\n",
       "      <td>126.230769</td>\n",
       "      <td>8.000000</td>\n",
       "      <td>92.923077</td>\n",
       "      <td>16.083333</td>\n",
       "      <td>2.141667</td>\n",
       "      <td>7.430000</td>\n",
       "      <td>21.666667</td>\n",
       "      <td>4.200</td>\n",
       "      <td>21.000000</td>\n",
       "      <td>15</td>\n",
       "    </tr>\n",
       "  </tbody>\n",
       "</table>\n",
       "<p>5 rows × 48 columns</p>\n",
       "</div>"
      ],
      "text/plain": [
       "      outcome  age        BMI  hypertensive  atrialfibrillation  \\\n",
       "1088      0.0   83  20.347657             1                   1   \n",
       "1090      0.0   37  26.638051             0                   0   \n",
       "1091      0.0   61  29.836962             1                   0   \n",
       "1092      0.0   71  32.804298             1                   0   \n",
       "1094      0.0   37  26.255155             0                   0   \n",
       "\n",
       "      CHD with no MI  diabetes  deficiencyanemias  depression  Hyperlipemia  \\\n",
       "1088               0         0                  0           0             0   \n",
       "1090               0         0                  0           0             0   \n",
       "1091               0         1                  0           0             1   \n",
       "1092               0         1                  0           1             0   \n",
       "1094               0         0                  0           0             0   \n",
       "\n",
       "      ...  Blood sodium  Blood calcium    Chloride  Anion gap  Magnesium ion  \\\n",
       "1088  ...    137.800000       7.925000  102.400000  16.600000       2.250000   \n",
       "1090  ...    135.666667       8.400000  100.333333  13.333333       2.050000   \n",
       "1091  ...    135.444444       8.571429   99.444444  15.888889       1.900000   \n",
       "1092  ...    141.823529       8.500000  101.470588  12.066667       2.005882   \n",
       "1094  ...    126.230769       8.000000   92.923077  16.083333       2.141667   \n",
       "\n",
       "            PH  Bicarbonate  Lactic acid       PCO2  EF  \n",
       "1088  7.273333    23.000000        3.550  48.333333  55  \n",
       "1090  7.370000    26.333333        3.775  29.000000  20  \n",
       "1091  7.368125    24.333333        4.150  43.000000  20  \n",
       "1092  7.385806    32.933333        4.160  42.870968  55  \n",
       "1094  7.430000    21.666667        4.200  21.000000  15  \n",
       "\n",
       "[5 rows x 48 columns]"
      ]
     },
     "execution_count": 6,
     "metadata": {},
     "output_type": "execute_result"
    }
   ],
   "source": [
    "df.tail()"
   ]
  },
  {
   "cell_type": "code",
   "execution_count": 7,
   "id": "3f36a6e4",
   "metadata": {},
   "outputs": [],
   "source": [
    "x1 = df.drop(labels='outcome', axis=1)\n",
    "y1 = df.loc[:,'outcome']"
   ]
  },
  {
   "cell_type": "code",
   "execution_count": 8,
   "id": "1f62c6c3",
   "metadata": {},
   "outputs": [
    {
     "name": "stdout",
     "output_type": "stream",
     "text": [
      "OUR DATASET COUNT         :  Counter({0.0: 363, 1.0: 65})\n",
      "OVER SAMPLING DATA COUNT  :  Counter({0.0: 363, 1.0: 363})\n"
     ]
    }
   ],
   "source": [
    "import imblearn\n",
    "from imblearn.over_sampling import RandomOverSampler\n",
    "from collections import Counter\n",
    "\n",
    "ros =RandomOverSampler(random_state=42)\n",
    "x,y=ros.fit_resample(x1,y1)\n",
    "print(\"OUR DATASET COUNT         : \", Counter(y1))\n",
    "print(\"OVER SAMPLING DATA COUNT  : \", Counter(y))"
   ]
  },
  {
   "cell_type": "code",
   "execution_count": 9,
   "id": "4bb6edac",
   "metadata": {},
   "outputs": [
    {
     "name": "stdout",
     "output_type": "stream",
     "text": [
      "NUMBER OF TRAIN DATASET    :  580\n",
      "NUMBER OF TEST DATASET      :  146\n",
      "TOTAL NUMBER OF DATASET    :  726\n"
     ]
    }
   ],
   "source": [
    "from sklearn.model_selection import train_test_split\n",
    "x_train, x_test, y_train, y_test = train_test_split(x, y, test_size=0.20, random_state=42, stratify=y)\n",
    "print(\"NUMBER OF TRAIN DATASET    : \", len(x_train))\n",
    "print(\"NUMBER OF TEST DATASET      : \", len(x_test))\n",
    "print(\"TOTAL NUMBER OF DATASET    : \", len(x_train)+len(x_test))"
   ]
  },
  {
   "cell_type": "code",
   "execution_count": 10,
   "id": "cbb02177",
   "metadata": {},
   "outputs": [
    {
     "name": "stdout",
     "output_type": "stream",
     "text": [
      "NUMBER OF TRAIN DATASET    :  580\n",
      "NUMBER OF TEST DATASET      :  146\n",
      "TOTAL NUMBER OF DATASET    :  726\n"
     ]
    }
   ],
   "source": [
    "print(\"NUMBER OF TRAIN DATASET    : \", len(y_train))\n",
    "print(\"NUMBER OF TEST DATASET      : \", len(y_test))\n",
    "print(\"TOTAL NUMBER OF DATASET    : \", len(y_train)+len(y_test))"
   ]
  },
  {
   "cell_type": "code",
   "execution_count": 11,
   "id": "1fa5db0a",
   "metadata": {},
   "outputs": [],
   "source": [
    "from sklearn.neighbors import KNeighborsClassifier"
   ]
  },
  {
   "cell_type": "code",
   "execution_count": 12,
   "id": "13c940ce",
   "metadata": {},
   "outputs": [
    {
     "data": {
      "text/html": [
       "<style>#sk-container-id-1 {color: black;}#sk-container-id-1 pre{padding: 0;}#sk-container-id-1 div.sk-toggleable {background-color: white;}#sk-container-id-1 label.sk-toggleable__label {cursor: pointer;display: block;width: 100%;margin-bottom: 0;padding: 0.3em;box-sizing: border-box;text-align: center;}#sk-container-id-1 label.sk-toggleable__label-arrow:before {content: \"▸\";float: left;margin-right: 0.25em;color: #696969;}#sk-container-id-1 label.sk-toggleable__label-arrow:hover:before {color: black;}#sk-container-id-1 div.sk-estimator:hover label.sk-toggleable__label-arrow:before {color: black;}#sk-container-id-1 div.sk-toggleable__content {max-height: 0;max-width: 0;overflow: hidden;text-align: left;background-color: #f0f8ff;}#sk-container-id-1 div.sk-toggleable__content pre {margin: 0.2em;color: black;border-radius: 0.25em;background-color: #f0f8ff;}#sk-container-id-1 input.sk-toggleable__control:checked~div.sk-toggleable__content {max-height: 200px;max-width: 100%;overflow: auto;}#sk-container-id-1 input.sk-toggleable__control:checked~label.sk-toggleable__label-arrow:before {content: \"▾\";}#sk-container-id-1 div.sk-estimator input.sk-toggleable__control:checked~label.sk-toggleable__label {background-color: #d4ebff;}#sk-container-id-1 div.sk-label input.sk-toggleable__control:checked~label.sk-toggleable__label {background-color: #d4ebff;}#sk-container-id-1 input.sk-hidden--visually {border: 0;clip: rect(1px 1px 1px 1px);clip: rect(1px, 1px, 1px, 1px);height: 1px;margin: -1px;overflow: hidden;padding: 0;position: absolute;width: 1px;}#sk-container-id-1 div.sk-estimator {font-family: monospace;background-color: #f0f8ff;border: 1px dotted black;border-radius: 0.25em;box-sizing: border-box;margin-bottom: 0.5em;}#sk-container-id-1 div.sk-estimator:hover {background-color: #d4ebff;}#sk-container-id-1 div.sk-parallel-item::after {content: \"\";width: 100%;border-bottom: 1px solid gray;flex-grow: 1;}#sk-container-id-1 div.sk-label:hover label.sk-toggleable__label {background-color: #d4ebff;}#sk-container-id-1 div.sk-serial::before {content: \"\";position: absolute;border-left: 1px solid gray;box-sizing: border-box;top: 0;bottom: 0;left: 50%;z-index: 0;}#sk-container-id-1 div.sk-serial {display: flex;flex-direction: column;align-items: center;background-color: white;padding-right: 0.2em;padding-left: 0.2em;position: relative;}#sk-container-id-1 div.sk-item {position: relative;z-index: 1;}#sk-container-id-1 div.sk-parallel {display: flex;align-items: stretch;justify-content: center;background-color: white;position: relative;}#sk-container-id-1 div.sk-item::before, #sk-container-id-1 div.sk-parallel-item::before {content: \"\";position: absolute;border-left: 1px solid gray;box-sizing: border-box;top: 0;bottom: 0;left: 50%;z-index: -1;}#sk-container-id-1 div.sk-parallel-item {display: flex;flex-direction: column;z-index: 1;position: relative;background-color: white;}#sk-container-id-1 div.sk-parallel-item:first-child::after {align-self: flex-end;width: 50%;}#sk-container-id-1 div.sk-parallel-item:last-child::after {align-self: flex-start;width: 50%;}#sk-container-id-1 div.sk-parallel-item:only-child::after {width: 0;}#sk-container-id-1 div.sk-dashed-wrapped {border: 1px dashed gray;margin: 0 0.4em 0.5em 0.4em;box-sizing: border-box;padding-bottom: 0.4em;background-color: white;}#sk-container-id-1 div.sk-label label {font-family: monospace;font-weight: bold;display: inline-block;line-height: 1.2em;}#sk-container-id-1 div.sk-label-container {text-align: center;}#sk-container-id-1 div.sk-container {/* jupyter's `normalize.less` sets `[hidden] { display: none; }` but bootstrap.min.css set `[hidden] { display: none !important; }` so we also need the `!important` here to be able to override the default hidden behavior on the sphinx rendered scikit-learn.org. See: https://github.com/scikit-learn/scikit-learn/issues/21755 */display: inline-block !important;position: relative;}#sk-container-id-1 div.sk-text-repr-fallback {display: none;}</style><div id=\"sk-container-id-1\" class=\"sk-top-container\"><div class=\"sk-text-repr-fallback\"><pre>KNeighborsClassifier(n_neighbors=10)</pre><b>In a Jupyter environment, please rerun this cell to show the HTML representation or trust the notebook. <br />On GitHub, the HTML representation is unable to render, please try loading this page with nbviewer.org.</b></div><div class=\"sk-container\" hidden><div class=\"sk-item\"><div class=\"sk-estimator sk-toggleable\"><input class=\"sk-toggleable__control sk-hidden--visually\" id=\"sk-estimator-id-1\" type=\"checkbox\" checked><label for=\"sk-estimator-id-1\" class=\"sk-toggleable__label sk-toggleable__label-arrow\">KNeighborsClassifier</label><div class=\"sk-toggleable__content\"><pre>KNeighborsClassifier(n_neighbors=10)</pre></div></div></div></div></div>"
      ],
      "text/plain": [
       "KNeighborsClassifier(n_neighbors=10)"
      ]
     },
     "execution_count": 12,
     "metadata": {},
     "output_type": "execute_result"
    }
   ],
   "source": [
    "KNN = KNeighborsClassifier(n_neighbors=10)\n",
    "KNN.fit(x_train,y_train)"
   ]
  },
  {
   "cell_type": "code",
   "execution_count": 13,
   "id": "cd274b6d",
   "metadata": {},
   "outputs": [],
   "source": [
    "# data handling or memory layout may happen to reduce that affect we did this\n",
    "x_test = np.ascontiguousarray(x_test)"
   ]
  },
  {
   "cell_type": "code",
   "execution_count": 14,
   "id": "636c6a41",
   "metadata": {},
   "outputs": [
    {
     "name": "stdout",
     "output_type": "stream",
     "text": [
      "True\n"
     ]
    }
   ],
   "source": [
    "# print whether our data has trated or not\n",
    "print(x_test.flags.c_contiguous)"
   ]
  },
  {
   "cell_type": "code",
   "execution_count": 15,
   "id": "4a749cc7",
   "metadata": {
    "scrolled": true
   },
   "outputs": [],
   "source": [
    "predicted = KNN.predict(x_test)"
   ]
  },
  {
   "cell_type": "code",
   "execution_count": 16,
   "id": "d59ff467",
   "metadata": {},
   "outputs": [
    {
     "name": "stdout",
     "output_type": "stream",
     "text": [
      "THE CONFUSION MATRIX SCORE OF KNEIGHBORS CLASSIFIER:\n",
      "\n",
      "\n",
      " [[56 17]\n",
      " [15 58]]\n"
     ]
    }
   ],
   "source": [
    "from sklearn.metrics import confusion_matrix\n",
    "cm = confusion_matrix(y_test,predicted)\n",
    "print('THE CONFUSION MATRIX SCORE OF KNEIGHBORS CLASSIFIER:\\n\\n\\n',cm)"
   ]
  },
  {
   "cell_type": "code",
   "execution_count": 17,
   "id": "69ff65f6",
   "metadata": {},
   "outputs": [
    {
     "name": "stdout",
     "output_type": "stream",
     "text": [
      "THE ACCURACY SCORE OF KNEIGHBORS CLASSIFIER IS : 78.08219178082192\n"
     ]
    }
   ],
   "source": [
    "from sklearn.metrics import accuracy_score\n",
    "a = accuracy_score(y_test,predicted)\n",
    "print(\"THE ACCURACY SCORE OF KNEIGHBORS CLASSIFIER IS :\",a*100)"
   ]
  },
  {
   "cell_type": "code",
   "execution_count": 18,
   "id": "15d9d0f0",
   "metadata": {},
   "outputs": [
    {
     "name": "stdout",
     "output_type": "stream",
     "text": [
      "THE HAMMING LOSS OF KNEIGHBORS CLASSIFIER IS : 21.91780821917808\n"
     ]
    }
   ],
   "source": [
    "from sklearn.metrics import hamming_loss\n",
    "hl = hamming_loss(y_test,predicted)\n",
    "print(\"THE HAMMING LOSS OF KNEIGHBORS CLASSIFIER IS :\",hl*100)"
   ]
  },
  {
   "cell_type": "code",
   "execution_count": 19,
   "id": "9b70f2b2",
   "metadata": {},
   "outputs": [
    {
     "name": "stdout",
     "output_type": "stream",
     "text": [
      "THE PRECISION SCORE OF KNEIGHBORS CLASSIFIER IS : 77.33333333333333\n"
     ]
    }
   ],
   "source": [
    "from sklearn.metrics import precision_score\n",
    "P = precision_score(y_test,predicted)\n",
    "print(\"THE PRECISION SCORE OF KNEIGHBORS CLASSIFIER IS :\",P*100)"
   ]
  },
  {
   "cell_type": "code",
   "execution_count": 20,
   "id": "f169c896",
   "metadata": {},
   "outputs": [
    {
     "name": "stdout",
     "output_type": "stream",
     "text": [
      "THE RECALL SCORE OF KNEIGHBORS CLASSIFIER IS : 79.45205479452055\n"
     ]
    }
   ],
   "source": [
    "from sklearn.metrics import recall_score\n",
    "R = recall_score(y_test,predicted)\n",
    "print(\"THE RECALL SCORE OF KNEIGHBORS CLASSIFIER IS :\",R*100)"
   ]
  },
  {
   "cell_type": "code",
   "execution_count": 21,
   "id": "f751255f",
   "metadata": {},
   "outputs": [
    {
     "name": "stdout",
     "output_type": "stream",
     "text": [
      "THE PRECISION SCORE OF KNEIGHBORS CLASSIFIER IS : 78.37837837837837\n"
     ]
    }
   ],
   "source": [
    "from sklearn.metrics import f1_score\n",
    "f1 = f1_score(y_test,predicted)\n",
    "print(\"THE PRECISION SCORE OF KNEIGHBORS CLASSIFIER IS :\",f1*100)"
   ]
  },
  {
   "cell_type": "code",
   "execution_count": 22,
   "id": "140e5feb",
   "metadata": {},
   "outputs": [
    {
     "name": "stdout",
     "output_type": "stream",
     "text": [
      "THE CONFUSION MATRIX SCORE OF KNEIGHBORS CLASSIFIER:\n",
      "\n",
      "\n",
      "[[56 17]\n",
      " [15 58]]\n"
     ]
    },
    {
     "data": {
      "image/png": "[encoded data removed]",
      "text/plain": [
       "<Figure size 640x480 with 2 Axes>"
      ]
     },
     "metadata": {},
     "output_type": "display_data"
    }
   ],
   "source": [
    "def plot_confusion_matrix(cm, title='THE CONFUSION MATRIX SCORE OF KNEIGHBORS CLASSIFIER\\n\\n', cmap=plt.cm.Blues):\n",
    "    target_names=['']\n",
    "    plt.imshow(cm, interpolation='nearest', cmap=cmap)\n",
    "    plt.title(title)\n",
    "    plt.colorbar()\n",
    "    tick_marks = np.arange(len(target_names))\n",
    "    plt.xticks(tick_marks, target_names, rotation=45)\n",
    "    plt.yticks(tick_marks, target_names)\n",
    "    plt.tight_layout()\n",
    "    plt.ylabel('True label')\n",
    "    plt.xlabel('Predicted label')\n",
    "\n",
    "cm=confusion_matrix(y_test, predicted)\n",
    "print('THE CONFUSION MATRIX SCORE OF KNEIGHBORS CLASSIFIER:\\n\\n')\n",
    "print(cm)\n",
    "\n",
    "sns.heatmap(cm/np.sum(cm), annot=True, cmap = 'Blues', annot_kws={\"size\": 16},fmt='.2%')\n",
    "plt.show()"
   ]
  },
  {
   "cell_type": "code",
   "execution_count": 23,
   "id": "ee5774eb",
   "metadata": {},
   "outputs": [
    {
     "data": {
      "image/png": "[encoded data removed]",
      "text/plain": [
       "<Figure size 500x500 with 1 Axes>"
      ]
     },
     "metadata": {},
     "output_type": "display_data"
    }
   ],
   "source": [
    "import matplotlib.pyplot as plt\n",
    "\n",
    "def graph():\n",
    "    # Replace 'a' with your accuracy score\n",
    "    accuracy_score = a\n",
    "    alg = \"KNEIGHBORS CLASSIFIER\"\n",
    "\n",
    "    plt.figure(figsize=(5, 5))\n",
    "    plt.bar(alg, accuracy_score, color=\"green\")\n",
    "    plt.title(\"The Accuracy Score of KNEIGHBORS CLASSIFIER\")\n",
    "    plt.xlabel(\"Algorithm\")\n",
    "    plt.ylabel(\"Accuracy\")\n",
    "    plt.show()\n",
    "\n",
    "graph()\n"
   ]
  },
  {
   "cell_type": "code",
   "execution_count": null,
   "id": "8b830fd3",
   "metadata": {},
   "outputs": [],
   "source": []
  },
  {
   "cell_type": "code",
   "execution_count": null,
   "id": "1b4663e6",
   "metadata": {},
   "outputs": [],
   "source": []
  },
  {
   "cell_type": "code",
   "execution_count": null,
   "id": "58601859",
   "metadata": {},
   "outputs": [],
   "source": []
  }
 ],
 "metadata": {
  "kernelspec": {
   "display_name": "Python 3 (ipykernel)",
   "language": "python",
   "name": "python3"
  },
  "language_info": {
   "codemirror_mode": {
    "name": "ipython",
    "version": 3
   },
   "file_extension": ".py",
   "mimetype": "text/x-python",
   "name": "python",
   "nbconvert_exporter": "python",
   "pygments_lexer": "ipython3",
   "version": "3.11.5"
  }
 },
 "nbformat": 4,
 "nbformat_minor": 5
}
